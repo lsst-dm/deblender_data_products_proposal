{
 "cells": [
  {
   "cell_type": "code",
   "execution_count": 1,
   "metadata": {
    "collapsed": true
   },
   "outputs": [],
   "source": [
    "import lsst.daf.persistence\n",
    "import numpy as np\n",
    "from lsst.afw.table import SOURCE_IO_NO_HEAVY_FOOTPRINTS\n",
    "import tqdm"
   ]
  },
  {
   "cell_type": "code",
   "execution_count": 12,
   "metadata": {
    "collapsed": false
   },
   "outputs": [],
   "source": [
    "class ExposureProxy(object):\n",
    "\n",
    "    def __init__(self, target):\n",
    "        self.wcs = target.getWcs()\n",
    "        self.ccds = target.getInfo().getCoaddInputs().ccds\n",
    "        self.bbox = target.getBBox()\n",
    "\n",
    "class Dataset(object):\n",
    "    \n",
    "    def __init__(self, butler, tract, patches, filter=\"HSC-I\"):\n",
    "        if not isinstance(butler, lsst.daf.persistence.Butler):\n",
    "            butler = lsst.daf.persistence.Butler(butler)\n",
    "        self.skyMap = butler.get(\"deepCoadd_skyMap\")\n",
    "        self.ids = {tract: list(patches)}\n",
    "        self.coadds = {}\n",
    "        self.catalogs = {}\n",
    "        for patch in tqdm.tqdm_notebook(patches):\n",
    "            try:\n",
    "                self.catalogs[tract, patch] = butler.get(\"deepCoadd_meas\", tract=tract, patch=patch, filter=filter)\n",
    "                self.coadds[tract, patch] = ExposureProxy(\n",
    "                    butler.get(\"deepCoadd_calexp\", tract=tract, patch=patch, filter=filter)\n",
    "                )\n",
    "            except lsst.daf.persistence.NoResults:\n",
    "                print \"Data for tract=%d, patch=%s not found\" % (tract, patch)\n",
    "                self.ids[tract].remove(patch)\n",
    "\n",
    "    def __iadd__(self, other):\n",
    "        self.ids.update(other.ids)\n",
    "        self.coadds.update(other.coadds)\n",
    "        self.catalogs.update(other.catalogs)\n",
    "        return self"
   ]
  },
  {
   "cell_type": "code",
   "execution_count": 3,
   "metadata": {
    "collapsed": false
   },
   "outputs": [],
   "source": [
    "def computeCoaddExposureTime(exposure, binsize=200):\n",
    "    bbox = exposure.bbox\n",
    "    results = []\n",
    "    ccds = exposure.ccds\n",
    "    for y0 in range(bbox.getBeginY(), bbox.getEndY(), binsize):\n",
    "        y1 = min(y0 + binsize, bbox.getEndY())\n",
    "        ym = 0.5*(y0 + y1)\n",
    "        for x0 in range(bbox.getBeginX(), bbox.getEndX(), binsize):\n",
    "            x1 = min(x0 + binsize, bbox.getEndX())\n",
    "            xm = 0.5*(x0 + x1)\n",
    "            overlapping = ccds.subsetContaining(lsst.afw.geom.Point2D(xm, ym), exposure.wcs,\n",
    "                                                includeValidPolygon=True)\n",
    "            results.append(sum(record.getVisitInfo().getExposureTime() for record in overlapping))\n",
    "    return np.array(results)"
   ]
  },
  {
   "cell_type": "code",
   "execution_count": 56,
   "metadata": {
    "collapsed": true
   },
   "outputs": [],
   "source": [
    "BYTES_PER_SPAN = 3*4  # 3 int32_t\n",
    "BYTES_PER_HEAVY_PIXEL = 4\n",
    "\n",
    "def computeFootprintBytes(catalog):\n",
    "    sizes = []\n",
    "    for record in catalog:\n",
    "        size = BYTES_PER_SPAN * len(record.getFootprint().getSpans())\n",
    "        if record.getParent() != 0:\n",
    "            size += BYTES_PER_HEAVY_PIXEL * record.getFootprint().getArea()\n",
    "        sizes.append(size)\n",
    "    return np.array(sizes, dtype=np.int64)"
   ]
  },
  {
   "cell_type": "code",
   "execution_count": 76,
   "metadata": {
    "collapsed": false
   },
   "outputs": [],
   "source": [
    "def report(dataset, min_exptime=None, min_exptime_snr=None):\n",
    "    tables = []\n",
    "    all_sizes = []\n",
    "    for tract, patches in dataset.ids.items():\n",
    "        print \"tract=%4d\" % tract\n",
    "        print \"=\" * 50\n",
    "        table = []\n",
    "        dtype = np.dtype([(\"patch\", str, 8), (\"exptime_mean\", float), (\"exptime_rms\", float),\n",
    "                          (\"size\", float), (\"area\", float)])\n",
    "        print \" patch   exptime(s)    size(MB)    area(deg^2)\"\n",
    "        print \"-\" * 50\n",
    "        template = \"%7s  %5.0f±%3.0f      %6.2f        %6.4g\"\n",
    "        for patch in tqdm.tqdm_notebook(patches):\n",
    "            dimensions = dataset.skyMap[tract].getPatchInnerDimensions()\n",
    "            exptime = computeCoaddExposureTime(dataset.coadds[tract, patch], binsize=200)\n",
    "            if min_exptime is not None and exptime.mean() < min_exptime:\n",
    "                continue\n",
    "            if min_exptime_snr is not None and exptime.mean() < min_exptime_snr*exptime.std():\n",
    "                continue\n",
    "            size = computeFootprintBytes(dataset.catalogs[tract, patch])\n",
    "            area = dimensions.getX() * dimensions.getY() * \\\n",
    "                dataset.coadds[tract, patch].wcs.pixelScale().asDegrees()**2\n",
    "            table.append((patch, exptime.mean(), exptime.std(), size.sum()*1E-6, area))\n",
    "            all_sizes.append(size)\n",
    "        table = np.array(table, dtype=dtype)\n",
    "        for record in table:\n",
    "            print template % tuple(record)\n",
    "        print \"-\" * 50\n",
    "        print template % (\"avg(%2d)\" % len(table), table[\"exptime_mean\"].mean(), table[\"exptime_rms\"].mean(),\n",
    "                          table[\"size\"].sum(), table[\"area\"].mean())\n",
    "        tables.append(table)\n",
    "    return tables, np.concatenate(all_sizes)"
   ]
  },
  {
   "cell_type": "code",
   "execution_count": 72,
   "metadata": {
    "collapsed": true
   },
   "outputs": [],
   "source": [
    "reload_data = False"
   ]
  },
  {
   "cell_type": "code",
   "execution_count": 73,
   "metadata": {
    "collapsed": false
   },
   "outputs": [],
   "source": [
    "if reload_data:\n",
    "    cosmos = Dataset(\"/tigress/HSC/HSC/rerun/lauren/LSST/DM-9862/cosmos_noJunk/\",\n",
    "                     tract=0,\n",
    "                     patches=[\"%d,%d\" % (i, j) for i in range(3, 8) for j in range(3, 8)])"
   ]
  },
  {
   "cell_type": "code",
   "execution_count": 74,
   "metadata": {
    "collapsed": false,
    "scrolled": true
   },
   "outputs": [
    {
     "name": "stdout",
     "output_type": "stream",
     "text": [
      "tract=   0\n",
      "==================================================\n",
      " patch   exptime(s)    size(MB)    area(deg^2)\n",
      "--------------------------------------------------\n",
      "\n",
      "    3,3   8100±873      066.43        0.03484\n",
      "    3,4   8914±408      087.64        0.03484\n",
      "    3,5   8878±398      085.93        0.03484\n",
      "    3,6   8899±387      119.96        0.03484\n",
      "    3,7   8799±390      092.99        0.03484\n",
      "    4,3   8861±450      075.37        0.03484\n",
      "    4,4   8975±391      089.73        0.03484\n",
      "    4,5   8953±394      087.18        0.03484\n",
      "    4,6   8923±382      080.20        0.03484\n",
      "    4,7   9001±394      105.65        0.03484\n",
      "    5,3   9012±385      079.55        0.03484\n",
      "    5,4   9232±273      075.66        0.03484\n",
      "    5,5   9234±318      091.55        0.03484\n",
      "    5,6   9224±304      091.31        0.03484\n",
      "    5,7   9269±312      084.91        0.03484\n",
      "    6,3   8924±413      074.86        0.03484\n",
      "    6,4   9027±342      097.31        0.03484\n",
      "    6,5   9023±350      092.84        0.03484\n",
      "    6,6   9009±343      088.12        0.03484\n",
      "    6,7   9021±385      092.94        0.03484\n",
      "    7,3   8496±658      076.50        0.03484\n",
      "    7,4   8974±367      079.46        0.03484\n",
      "    7,5   8911±365      083.50        0.03484\n",
      "    7,6   8863±312      084.64        0.03484\n",
      "    7,7   8872±375      092.02        0.03484\n",
      "--------------------------------------------------\n",
      "avg(25)   8936±399      2176.25        0.03484\n"
     ]
    }
   ],
   "source": [
    "udeep_tables, udeep_sizes = report(cosmos)"
   ]
  },
  {
   "cell_type": "code",
   "execution_count": 13,
   "metadata": {
    "collapsed": false
   },
   "outputs": [
    {
     "name": "stdout",
     "output_type": "stream",
     "text": [
      "\n"
     ]
    }
   ],
   "source": [
    "if reload_data:\n",
    "    butler = lsst.daf.persistence.Butler(\"/tigress/HSC/HSC/rerun/hscPipe-5.0-beta1/20170322/wide/\")\n",
    "    wide = Dataset(butler, tract=15830,\n",
    "                   patches=[\"%d,%d\" % (i, j) for i in range(0, 8) for j in range(4, 8)])"
   ]
  },
  {
   "cell_type": "code",
   "execution_count": 14,
   "metadata": {
    "collapsed": false
   },
   "outputs": [
    {
     "name": "stdout",
     "output_type": "stream",
     "text": [
      "\n"
     ]
    }
   ],
   "source": [
    "if reload_data:\n",
    "    wide += Dataset(butler, tract=8764,\n",
    "                    patches=[\"%d,%d\" % (i, j) for i in range(0, 8) for j in range(0, 8)])"
   ]
  },
  {
   "cell_type": "code",
   "execution_count": 16,
   "metadata": {
    "collapsed": false
   },
   "outputs": [
    {
     "name": "stdout",
     "output_type": "stream",
     "text": [
      "\n"
     ]
    }
   ],
   "source": [
    "if reload_data:\n",
    "    wide += Dataset(butler, tract=9455,\n",
    "                    patches=[\"%d,%d\" % (i, j) for i in range(0, 8) for j in range(0, 8)])"
   ]
  },
  {
   "cell_type": "code",
   "execution_count": 75,
   "metadata": {
    "collapsed": false
   },
   "outputs": [
    {
     "name": "stdout",
     "output_type": "stream",
     "text": [
      "tract=8764\n",
      "==================================================\n",
      " patch   exptime(s)    size(MB)    area(deg^2)\n",
      "--------------------------------------------------\n",
      "\n",
      "    0,0   1253±240      024.37        0.03484\n",
      "    0,1   1537±225      028.84        0.03484\n",
      "    0,2   1356±178      024.94        0.03484\n",
      "    0,3   1288±179      024.74        0.03484\n",
      "    0,4   1591±194      031.01        0.03484\n",
      "    0,5   1308±228      022.12        0.03484\n",
      "    0,6   1341±227      025.37        0.03484\n",
      "    0,7   1450±257      024.62        0.03484\n",
      "    1,0   1227±176      024.47        0.03484\n",
      "    1,1   1381±229      027.80        0.03484\n",
      "    1,2   1377±211      024.10        0.03484\n",
      "    1,3   1365±172      023.27        0.03484\n",
      "    1,4   1689±221      027.72        0.03484\n",
      "    1,5   1434±276      024.74        0.03484\n",
      "    1,7   1279±196      026.76        0.03484\n",
      "    2,0   1449±195      028.22        0.03484\n",
      "    2,1   1610±233      028.89        0.03484\n",
      "    2,2   1436±228      027.76        0.03484\n",
      "    2,3   1375±191      026.45        0.03484\n",
      "    2,4   1464±156      026.57        0.03484\n",
      "    2,5   1507±245      023.02        0.03484\n",
      "    2,6   1475±222      026.79        0.03484\n",
      "    2,7   1571±228      023.29        0.03484\n",
      "    3,0   1479±210      025.19        0.03484\n",
      "    3,1   1687±213      028.74        0.03484\n",
      "    3,2   1518±213      023.03        0.03484\n",
      "    3,4   1379±206      022.78        0.03484\n",
      "    3,5   1304±172      024.81        0.03484\n",
      "    3,6   1397±246      029.67        0.03484\n",
      "    3,7   1687±196      032.78        0.03484\n",
      "    4,0   1278±204      023.27        0.03484\n",
      "    4,1   1254±224      027.67        0.03484\n",
      "    4,2   1338±211      024.89        0.03484\n",
      "    4,3   1434±198      026.40        0.03484\n",
      "    4,4   1621±238      029.07        0.03484\n",
      "    4,5   1352±188      027.58        0.03484\n",
      "    4,6   1139±157      034.67        0.03484\n",
      "    4,7   1441±194      029.39        0.03484\n",
      "    5,0   1405±262      027.24        0.03484\n",
      "    5,1   1387±253      027.81        0.03484\n",
      "    5,2   1398±218      023.56        0.03484\n",
      "    5,3   1487±257      029.04        0.03484\n",
      "    5,4   1722±234      037.08        0.03484\n",
      "    5,5   1499±229      028.67        0.03484\n",
      "    5,6   1284±200      025.53        0.03484\n",
      "    5,7   1425±225      028.40        0.03484\n",
      "    6,0   1509±238      024.12        0.03484\n",
      "    6,1   1656±219      029.59        0.03484\n",
      "    6,2   1557±195      024.51        0.03484\n",
      "    6,3   1420±197      023.63        0.03484\n",
      "    6,4   1501±249      030.13        0.03484\n",
      "    6,5   1346±197      025.22        0.03484\n",
      "    6,6   1459±235      028.23        0.03484\n",
      "    6,7   1678±192      032.44        0.03484\n",
      "    7,0   1256±238      027.51        0.03484\n",
      "    7,1   1523±201      030.45        0.03484\n",
      "    7,2   1335±172      029.78        0.03484\n",
      "    7,3   1289±176      026.07        0.03484\n",
      "    7,4   1590±187      028.38        0.03484\n",
      "    7,5   1282±232      026.16        0.03484\n",
      "    7,6   1343±219      029.89        0.03484\n",
      "    7,7   1480±271      042.23        0.03484\n",
      "--------------------------------------------------\n",
      "avg(62)   1434±214      1691.42        0.03484\n",
      "tract=15830\n",
      "==================================================\n",
      " patch   exptime(s)    size(MB)    area(deg^2)\n",
      "--------------------------------------------------\n",
      "\n",
      "    0,4   1049±186      024.35        0.03484\n",
      "    0,5   1307±190      030.28        0.03484\n",
      "    0,6   1401±178      033.79        0.03484\n",
      "    0,7   1400±258      032.65        0.03484\n",
      "    1,4   1027±197      028.15        0.03484\n",
      "    1,5   1310±207      033.07        0.03484\n",
      "    1,6   1437±220      034.60        0.03484\n",
      "    1,7   1576±230      036.94        0.03484\n",
      "    2,4   1133±168      029.33        0.03484\n",
      "    2,5   1353±183      035.14        0.03484\n",
      "    2,6   1444±166      035.19        0.03484\n",
      "    2,7   1598±281      038.68        0.03484\n",
      "    3,4   1066±209      033.91        0.03484\n",
      "    3,5   1270±155      039.95        0.03484\n",
      "    3,6   1284±146      038.39        0.03484\n",
      "    3,7   1371±164      034.97        0.03484\n",
      "    4,4   1038±153      035.02        0.03484\n",
      "    4,5   1094±134      039.02        0.03484\n",
      "    4,6   1083±151      039.92        0.03484\n",
      "    4,7   1175±187      037.62        0.03484\n",
      "    5,4   1059±153      032.67        0.03484\n",
      "    5,5   1122±108      033.20        0.03484\n",
      "    5,6   1093±137      035.68        0.03484\n",
      "    5,7   1156±135      039.06        0.03484\n",
      "    6,5   1187±211      034.29        0.03484\n",
      "    7,5   1472±220      033.65        0.03484\n",
      "    7,6   1559±216      038.32        0.03484\n",
      "    7,7   1598±278      039.93        0.03484\n",
      "--------------------------------------------------\n",
      "avg(28)   1274±186      977.76        0.03484\n",
      "tract=9455\n",
      "==================================================\n",
      " patch   exptime(s)    size(MB)    area(deg^2)\n",
      "--------------------------------------------------\n",
      "\n",
      "    0,6   1595±211      029.02        0.03484\n",
      "    0,7   1527±197      029.86        0.03484\n",
      "    1,6   1424±270      030.22        0.03484\n",
      "    1,7   1413±203      023.78        0.03484\n",
      "    2,4    981±140      023.66        0.03484\n",
      "    2,5   1072±165      029.08        0.03484\n",
      "    2,6   1307±220      024.87        0.03484\n",
      "    2,7   1285±197      022.04        0.03484\n",
      "    3,4    943±133      022.52        0.03484\n",
      "    3,5   1073±174      025.56        0.03484\n",
      "    3,6   1396±221      024.90        0.03484\n",
      "    3,7   1380±223      023.64        0.03484\n",
      "    4,1    372± 71      015.64        0.03484\n",
      "    4,4    995±156      021.05        0.03484\n",
      "    4,5   1121±185      023.97        0.03484\n",
      "    4,6   1265±188      026.92        0.03484\n",
      "    4,7   1390±222      025.74        0.03484\n",
      "    5,3    889±165      022.33        0.03484\n",
      "    5,4   1021±185      023.29        0.03484\n",
      "    5,6   1096±210      025.39        0.03484\n",
      "    5,7   1210±220      026.60        0.03484\n",
      "    6,4    986±191      024.91        0.03484\n",
      "    6,6   1315±239      028.07        0.03484\n",
      "    6,7   1267±205      022.36        0.03484\n",
      "    7,4    723±140      020.90        0.03484\n",
      "    7,6   1600±220      029.11        0.03484\n",
      "    7,7   1530±207      028.45        0.03484\n",
      "--------------------------------------------------\n",
      "avg(27)   1192±191      673.87        0.03484\n"
     ]
    }
   ],
   "source": [
    "wide_tables, wide_sizes = report(wide, min_exptime_snr=5)"
   ]
  },
  {
   "cell_type": "code",
   "execution_count": 77,
   "metadata": {
    "collapsed": false
   },
   "outputs": [],
   "source": [
    "table = np.concatenate(wide_tables + udeep_tables)"
   ]
  },
  {
   "cell_type": "code",
   "execution_count": 26,
   "metadata": {
    "collapsed": false
   },
   "outputs": [],
   "source": [
    "from matplotlib import pyplot\n",
    "%matplotlib inline\n",
    "pyplot.rcParams['figure.figsize'] = (12, 8)"
   ]
  },
  {
   "cell_type": "code",
   "execution_count": 104,
   "metadata": {
    "collapsed": false
   },
   "outputs": [
    {
     "name": "stdout",
     "output_type": "stream",
     "text": [
      "Regression: (storage-per-patch)/(MB) = nvisits * 0.149 + 18.26\n"
     ]
    },
    {
     "data": {
      "image/png": "[encoded data removed]",
      "text/plain": [
       "<matplotlib.figure.Figure at 0x2ab114b49fd0>"
      ]
     },
     "metadata": {},
     "output_type": "display_data"
    }
   ],
   "source": [
    "HSC_EXPTIME_TO_LSST_VISITS = (8.3/6.67)**2/30.0\n",
    "pyplot.errorbar(table[\"exptime_mean\"],\n",
    "                table[\"size\"],\n",
    "                xerr=table[\"exptime_rms\"], fmt='o', alpha=0.6)\n",
    "m, b = np.polyfit(table[\"exptime_mean\"], table[\"size\"], 1)\n",
    "xmax = 10000\n",
    "pyplot.plot([0, xmax], [b, xmax*m + b], 'g-', label='regression')\n",
    "ax1 = pyplot.gca()\n",
    "ax2 = ax1.twiny()\n",
    "ax1.set_xlabel(\"HSC Exposure Time (s)\")\n",
    "ax1.set_ylabel(\"Footprint Storage (MB/patch)\")\n",
    "ax2.set_xlim(HSC_EXPTIME_TO_LSST_VISITS * np.array(ax1.get_xlim()))\n",
    "ax2.set_xticks([100, 200, 300, 400, 500])\n",
    "ax2.set_xlabel(\"Equivalent # of LSST Visits\")\n",
    "ax2.axvline(236*0.05, color='r', label=\"DR1\")\n",
    "for i in range (1, 11):\n",
    "    ax2.axvline(236*0.1*i, color='r', label=\"DR%d\" % (i+1))\n",
    "print \"Regression: (storage-per-patch)/(MB) = nvisits * %5.3f + %4.2f\" % (m/HSC_EXPTIME_TO_LSST_VISITS, b)"
   ]
  },
  {
   "cell_type": "code",
   "execution_count": 139,
   "metadata": {
    "collapsed": false
   },
   "outputs": [
    {
     "data": {
      "text/plain": [
       "<matplotlib.text.Text at 0x2ab11b98d550>"
      ]
     },
     "execution_count": 139,
     "metadata": {},
     "output_type": "execute_result"
    },
    {
     "data": {
      "image/png": "[encoded data removed]",
      "text/plain": [
       "<matplotlib.figure.Figure at 0x2ab11a976d10>"
      ]
     },
     "metadata": {},
     "output_type": "display_data"
    }
   ],
   "source": [
    "udeep_weights = np.array([1.0/sum(len(t) for t in udeep_tables)] * len(udeep_sizes), dtype=float)\n",
    "wide_weights = np.array([1.0/sum(len(t) for t in wide_tables)] * len(wide_sizes), dtype=float)\n",
    "udeep_hist = pyplot.hist(udeep_sizes*1E-3, bins=15, weights=udeep_weights,\n",
    "                         range=(0, 2E3), log=True, label=\"udeep\",histtype='step')\n",
    "wide_hist = pyplot.hist(wide_sizes*1E-3, bins=15, weights=wide_weights,\n",
    "                        range=(0, 2E3), log=True, label=\"wide\", histtype='step')\n",
    "pyplot.legend()\n",
    "pyplot.ylabel(\"fraction\")\n",
    "pyplot.xlabel(\"footprint size (KB)\")"
   ]
  },
  {
   "cell_type": "code",
   "execution_count": null,
   "metadata": {
    "collapsed": true
   },
   "outputs": [],
   "source": []
  }
 ],
 "metadata": {
  "kernelspec": {
   "display_name": "Python 2",
   "language": "python",
   "name": "python2"
  },
  "language_info": {
   "codemirror_mode": {
    "name": "ipython",
    "version": 2
   },
   "file_extension": ".py",
   "mimetype": "text/x-python",
   "name": "python",
   "nbconvert_exporter": "python",
   "pygments_lexer": "ipython2",
   "version": "2.7.11"
  }
 },
 "nbformat": 4,
 "nbformat_minor": 0
}
